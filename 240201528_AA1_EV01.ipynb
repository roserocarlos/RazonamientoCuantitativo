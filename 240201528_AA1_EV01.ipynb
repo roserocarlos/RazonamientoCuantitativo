{
  "nbformat": 4,
  "nbformat_minor": 0,
  "metadata": {
    "colab": {
      "provenance": [],
      "authorship_tag": "ABX9TyP0L26gO3wKporBqLfyt3+K",
      "include_colab_link": true
    },
    "kernelspec": {
      "name": "python3",
      "display_name": "Python 3"
    },
    "language_info": {
      "name": "python"
    }
  },
  "cells": [
    {
      "cell_type": "markdown",
      "metadata": {
        "id": "view-in-github",
        "colab_type": "text"
      },
      "source": [
        "<a href=\"https://colab.research.google.com/github/roserocarlos/RazonamientoCuantitativo/blob/main/240201528_AA1_EV01.ipynb\" target=\"_parent\"><img src=\"https://colab.research.google.com/assets/colab-badge.svg\" alt=\"Open In Colab\"/></a>"
      ]
    },
    {
      "cell_type": "code",
      "execution_count": 2,
      "metadata": {
        "colab": {
          "base_uri": "https://localhost:8080/"
        },
        "id": "JHka6VK1fGlo",
        "outputId": "54957bde-1cb7-41b1-942f-420b4b8af7c0"
      },
      "outputs": [
        {
          "output_type": "stream",
          "name": "stdout",
          "text": [
            "Ejercicio 1: Equivalencia de 17.78 cm en pulgadas: 7.00 pulgadas\n",
            "\n",
            "Ejercicio 2:\n",
            "Participantes que obtuvieron bicicleta: 5\n",
            "Participantes que obtuvieron juego: 10\n",
            "Participantes que obtuvieron efectivo: 75\n",
            "\n",
            "Ejercicio 3: Fracción total del trayecto recorrido: 0.80\n",
            "\n",
            "Ejercicio 4: Piezas defectuosas en un lote de 500: 21\n",
            "\n",
            "Ejercicio 5: Porcentaje de descuento aplicado: 12.41%\n",
            "\n"
          ]
        }
      ],
      "source": [
        "# Cálculo de los ejercicios resueltos en Python\n",
        "\n",
        "# Calcule la equivalencia en pulgadas de 17.78 cm. (utilice la equivalencia 1 pulgada = 2.54 cm)\n",
        "def ejercicio_1():\n",
        "    cm = 17.78\n",
        "    cm_a_pulgadas = cm / 2.54\n",
        "    return cm_a_pulgadas\n",
        "\n",
        "# En un concurso de dibujo se presentaron 90 participantes; 1/18 de los participantes obtuvieron como premio una bicicleta; 1/9 de los participantes obtuvieron como premio un juego, y el resto de los participantes obtuvieron un premio en efectivo.\n",
        "def ejercicio_2():\n",
        "    total_participantes = 90\n",
        "    bicicleta = total_participantes * (1 / 18)\n",
        "    juego = total_participantes * (1 / 9)\n",
        "    efectivo = total_participantes - (bicicleta + juego)\n",
        "    return bicicleta, juego, efectivo\n",
        "\n",
        "# Un ciclista ha estado corriendo durante tres horas. En la primera hora, ha recorrido los 5/18 de un trayecto; en la segunda hora, ha recorrido los 7/25 del trayecto, y en la tercera hora, ha recorrido los 11/45 del trayecto.\n",
        "def ejercicio_3():\n",
        "    trayecto_1 = 5 / 18\n",
        "    trayecto_2 = 7 / 25\n",
        "    trayecto_3 = 11 / 45\n",
        "    total_trayecto = trayecto_1 + trayecto_2 + trayecto_3\n",
        "    return total_trayecto\n",
        "\n",
        "# En la producción de 120 piezas 5 salen defectuosas, ¿Cuántas piezas saldrán defectuosas en un lote de 500 unidades?\n",
        "def ejercicio_4():\n",
        "    produccion_total = 120\n",
        "    defectuosas = 5\n",
        "    lote = 500\n",
        "    defectuosas_en_lote = (defectuosas / produccion_total) * lote\n",
        "    return defectuosas_en_lote\n",
        "\n",
        "# Calcule el porcentaje de descuento de un artículo cuyo precio era 145.000 pesos, pero solo se pagaron 127.000 pesos.\n",
        "def ejercicio_5():\n",
        "    precio_original = 145000\n",
        "    precio_pagado = 127000\n",
        "    descuento = ((precio_original - precio_pagado) / precio_original) * 100\n",
        "    return descuento\n",
        "\n",
        "# Imprimir los resultados\n",
        "def mostrar_resultados():\n",
        "    # Ejercicio 1\n",
        "    print(f\"Ejercicio 1: Equivalencia de 17.78 cm en pulgadas: {ejercicio_1():.2f} pulgadas\\n\")\n",
        "\n",
        "    # Ejercicio 2\n",
        "    bicicleta, juego, efectivo = ejercicio_2()\n",
        "    print(f\"Ejercicio 2:\")\n",
        "    print(f\"Participantes que obtuvieron bicicleta: {bicicleta:.0f}\")\n",
        "    print(f\"Participantes que obtuvieron juego: {juego:.0f}\")\n",
        "    print(f\"Participantes que obtuvieron efectivo: {efectivo:.0f}\\n\")\n",
        "\n",
        "    # Ejercicio 3\n",
        "    print(f\"Ejercicio 3: Fracción total del trayecto recorrido: {ejercicio_3():.2f}\\n\")\n",
        "\n",
        "    # Ejercicio 4\n",
        "    print(f\"Ejercicio 4: Piezas defectuosas en un lote de 500: {ejercicio_4():.0f}\\n\")\n",
        "\n",
        "    # Ejercicio 5\n",
        "    print(f\"Ejercicio 5: Porcentaje de descuento aplicado: {ejercicio_5():.2f}%\\n\")\n",
        "\n",
        "# Llamar a la función para mostrar los resultados\n",
        "mostrar_resultados()\n",
        "\n"
      ]
    }
  ]
}